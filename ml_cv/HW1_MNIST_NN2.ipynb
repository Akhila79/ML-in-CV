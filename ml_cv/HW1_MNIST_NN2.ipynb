{
 "cells": [
  {
   "cell_type": "markdown",
   "id": "2c2ef604",
   "metadata": {},
   "source": [
    "### 1. Import Libraries"
   ]
  },
  {
   "cell_type": "code",
   "execution_count": 1,
   "id": "50520dbc",
   "metadata": {},
   "outputs": [],
   "source": [
    "import os\n",
    "import sys\n",
    "import warnings\n",
    "\n",
    "import matplotlib as mpl\n",
    "import matplotlib.pyplot as plt\n",
    "import numpy as np\n",
    "import pandas as pd\n",
    "\n",
    "from sklearn.datasets import fetch_openml\n",
    "from sklearn.preprocessing import LabelEncoder\n",
    "from sklearn.model_selection import train_test_split\n",
    "\n",
    "%matplotlib inline\n",
    "mpl.rc('axes', labelsize=14)\n",
    "mpl.rc('xtick', labelsize=12)\n",
    "mpl.rc('ytick', labelsize=12)"
   ]
  },
  {
   "cell_type": "markdown",
   "id": "56983607",
   "metadata": {},
   "source": [
    "### 2. Import from mlcblab"
   ]
  },
  {
   "cell_type": "code",
   "execution_count": 2,
   "id": "26051ee7",
   "metadata": {},
   "outputs": [],
   "source": [
    "from mlcvlab.models.nn1 import NN1\n",
    "from mlcvlab.models.nn2 import NN2\n",
    "from mlcvlab.nn.losses import l2\n",
    "from mlcvlab.optim.sgd import SGD\n",
    "from mlcvlab.optim.adam import Adam"
   ]
  },
  {
   "cell_type": "markdown",
   "id": "30d59b83",
   "metadata": {},
   "source": [
    "### 3. Set Seed"
   ]
  },
  {
   "cell_type": "code",
   "execution_count": 3,
   "id": "5c69454d",
   "metadata": {},
   "outputs": [],
   "source": [
    "np.random.seed(42)"
   ]
  },
  {
   "cell_type": "markdown",
   "id": "02f3f225",
   "metadata": {},
   "source": [
    "### 4. Helper functions"
   ]
  },
  {
   "cell_type": "code",
   "execution_count": 4,
   "id": "2cf1c5ed",
   "metadata": {},
   "outputs": [],
   "source": [
    "def load_dataset():\n",
    "    #TODO\n",
    "    x, y = fetch_openml(\"mnist_784\", version=1, return_X_y=True, as_frame=False)\n",
    "    return x,y\n",
    "\n",
    "def prepare_data(x, y):\n",
    "    #TODO\n",
    "    y=y.astype(np.int16)\n",
    "    for i in range(len(y)):\n",
    "        y[i]=1 if y[i]%2==0 else 0\n",
    "    return x, y\n",
    "\n",
    "def split_train_test(x,y):\n",
    "    #TODO\n",
    "    X_train, X_test, y_train, y_test=train_test_split(x,y,test_size=10000)\n",
    "    return X_train, X_test, y_train, y_test\n",
    "\n",
    "def initialize_model(X_train, X_test, y_train, y_test):\n",
    "    #TODO\n",
    "    W0 = None\n",
    "    W1 = None\n",
    "    two_layer_nn  = NN2()\n",
    "    # two_layer_nn.W = [W0, W1]\n",
    "    # two_layer_nn.layers[0].W = W0\n",
    "    # two_layer_nn.layers[1].W = W1\n",
    "    print(f\"Size of W0 : {two_layer_nn.W[0]}, Size of W1 : {two_layer_nn.W[1][0].shape}\")\n",
    "    return two_layer_nn\n",
    "\n",
    "def train_model(model, X_train, y_train):\n",
    "    final_W  = None\n",
    "\n",
    "    #TODO : Call SGD or Adam optimizer to train model.\n",
    "    SGD(model, X_train, y_train, lr=0.1)\n",
    "    # Adam(model,X_train,y_train)    \n",
    "    return final_W\n",
    "\n",
    "def test_model(model, X_test, y_test, final_W):\n",
    "    accuracy = None\n",
    "    model.W = final_W\n",
    "    y_hat=model.nn2(X_test)\n",
    "    y_hat_mod=1*(y_hat>=0.5)\n",
    "    \n",
    "    accuracy=np.sum(np.abs(y_hat_mod-y_test))/10000\n",
    "    \n",
    "    #TODO: Call model.nn2 to test model.\n",
    "    return accuracy"
   ]
  },
  {
   "cell_type": "markdown",
   "id": "0f4f01d2",
   "metadata": {},
   "source": [
    "### 5. Run the program"
   ]
  },
  {
   "cell_type": "code",
   "execution_count": 5,
   "id": "27e78546",
   "metadata": {},
   "outputs": [],
   "source": [
    "#load data\n",
    "x, y = load_dataset()\n",
    "\n",
    "#prepare data\n",
    "x, y = prepare_data(x,y)\n",
    "\n",
    "# split data set\n",
    "X_train, X_test, y_train, y_test = split_train_test(x,y)"
   ]
  },
  {
   "cell_type": "code",
   "execution_count": 6,
   "id": "4e9c60b8",
   "metadata": {},
   "outputs": [
    {
     "name": "stdout",
     "output_type": "stream",
     "text": [
      "Size of W0 : [[1. 1. 1. ... 1. 1. 1.]\n",
      " [1. 1. 1. ... 1. 1. 1.]\n",
      " [1. 1. 1. ... 1. 1. 1.]\n",
      " ...\n",
      " [1. 1. 1. ... 1. 1. 1.]\n",
      " [1. 1. 1. ... 1. 1. 1.]\n",
      " [1. 1. 1. ... 1. 1. 1.]], Size of W1 : (500,)\n",
      "(500, 784)\n"
     ]
    },
    {
     "ename": "ValueError",
     "evalue": "shapes (1,500) and (60000,500) not aligned: 500 (dim 1) != 60000 (dim 0)",
     "output_type": "error",
     "traceback": [
      "\u001b[1;31m---------------------------------------------------------------------------\u001b[0m",
      "\u001b[1;31mValueError\u001b[0m                                Traceback (most recent call last)",
      "\u001b[1;32mc:\\Users\\minum\\Downloads\\sem2\\ML in CV\\assignment-1 v2\\2022-SP-101-102-HW1_v2-amnm7\\HW1_MNIST_NN2.ipynb Cell 11'\u001b[0m in \u001b[0;36m<module>\u001b[1;34m\u001b[0m\n\u001b[0;32m      <a href='vscode-notebook-cell:/c%3A/Users/minum/Downloads/sem2/ML%20in%20CV/assignment-1%20v2/2022-SP-101-102-HW1_v2-amnm7/HW1_MNIST_NN2.ipynb#ch0000009?line=1'>2</a>\u001b[0m model \u001b[39m=\u001b[39m initialize_model(X_train, X_test, y_train, y_test)\n\u001b[0;32m      <a href='vscode-notebook-cell:/c%3A/Users/minum/Downloads/sem2/ML%20in%20CV/assignment-1%20v2/2022-SP-101-102-HW1_v2-amnm7/HW1_MNIST_NN2.ipynb#ch0000009?line=3'>4</a>\u001b[0m \u001b[39m#training model\u001b[39;00m\n\u001b[1;32m----> <a href='vscode-notebook-cell:/c%3A/Users/minum/Downloads/sem2/ML%20in%20CV/assignment-1%20v2/2022-SP-101-102-HW1_v2-amnm7/HW1_MNIST_NN2.ipynb#ch0000009?line=4'>5</a>\u001b[0m final_W \u001b[39m=\u001b[39m train_model(model, X_train, y_train)\n\u001b[0;32m      <a href='vscode-notebook-cell:/c%3A/Users/minum/Downloads/sem2/ML%20in%20CV/assignment-1%20v2/2022-SP-101-102-HW1_v2-amnm7/HW1_MNIST_NN2.ipynb#ch0000009?line=5'>6</a>\u001b[0m \u001b[39mprint\u001b[39m(\u001b[39mf\u001b[39m\u001b[39m\"\u001b[39m\u001b[39mCompleted training model - final W : \u001b[39m\u001b[39m{\u001b[39;00mfinal_W\u001b[39m}\u001b[39;00m\u001b[39m\"\u001b[39m)\n\u001b[0;32m      <a href='vscode-notebook-cell:/c%3A/Users/minum/Downloads/sem2/ML%20in%20CV/assignment-1%20v2/2022-SP-101-102-HW1_v2-amnm7/HW1_MNIST_NN2.ipynb#ch0000009?line=8'>9</a>\u001b[0m \u001b[39m#testing model\u001b[39;00m\n",
      "\u001b[1;32mc:\\Users\\minum\\Downloads\\sem2\\ML in CV\\assignment-1 v2\\2022-SP-101-102-HW1_v2-amnm7\\HW1_MNIST_NN2.ipynb Cell 8'\u001b[0m in \u001b[0;36mtrain_model\u001b[1;34m(model, X_train, y_train)\u001b[0m\n\u001b[0;32m     <a href='vscode-notebook-cell:/c%3A/Users/minum/Downloads/sem2/ML%20in%20CV/assignment-1%20v2/2022-SP-101-102-HW1_v2-amnm7/HW1_MNIST_NN2.ipynb#ch0000007?line=29'>30</a>\u001b[0m final_W  \u001b[39m=\u001b[39m \u001b[39mNone\u001b[39;00m\n\u001b[0;32m     <a href='vscode-notebook-cell:/c%3A/Users/minum/Downloads/sem2/ML%20in%20CV/assignment-1%20v2/2022-SP-101-102-HW1_v2-amnm7/HW1_MNIST_NN2.ipynb#ch0000007?line=31'>32</a>\u001b[0m \u001b[39m#TODO : Call SGD or Adam optimizer to train model.\u001b[39;00m\n\u001b[1;32m---> <a href='vscode-notebook-cell:/c%3A/Users/minum/Downloads/sem2/ML%20in%20CV/assignment-1%20v2/2022-SP-101-102-HW1_v2-amnm7/HW1_MNIST_NN2.ipynb#ch0000007?line=32'>33</a>\u001b[0m SGD(model, X_train, y_train, lr\u001b[39m=\u001b[39;49m\u001b[39m0.1\u001b[39;49m)\n\u001b[0;32m     <a href='vscode-notebook-cell:/c%3A/Users/minum/Downloads/sem2/ML%20in%20CV/assignment-1%20v2/2022-SP-101-102-HW1_v2-amnm7/HW1_MNIST_NN2.ipynb#ch0000007?line=33'>34</a>\u001b[0m \u001b[39m# Adam(model,X_train,y_train)    \u001b[39;00m\n\u001b[0;32m     <a href='vscode-notebook-cell:/c%3A/Users/minum/Downloads/sem2/ML%20in%20CV/assignment-1%20v2/2022-SP-101-102-HW1_v2-amnm7/HW1_MNIST_NN2.ipynb#ch0000007?line=34'>35</a>\u001b[0m \u001b[39mreturn\u001b[39;00m final_W\n",
      "File \u001b[1;32mc:\\Users\\minum\\Downloads\\sem2\\ML in CV\\assignment-1 v2\\2022-SP-101-102-HW1_v2-amnm7\\mlcvlab\\optim\\sgd.py:26\u001b[0m, in \u001b[0;36mSGD\u001b[1;34m(model, train_X, train_y, lr, R)\u001b[0m\n\u001b[0;32m     <a href='file:///c%3A/Users/minum/Downloads/sem2/ML%20in%20CV/assignment-1%20v2/2022-SP-101-102-HW1_v2-amnm7/mlcvlab/optim/sgd.py?line=21'>22</a>\u001b[0m col\u001b[39m=\u001b[39m\u001b[39mint\u001b[39m(np\u001b[39m.\u001b[39mrandom\u001b[39m.\u001b[39mrandint(\u001b[39m0\u001b[39m,np\u001b[39m.\u001b[39mshape(model\u001b[39m.\u001b[39mW[layer_i])[\u001b[39m1\u001b[39m],\u001b[39m1\u001b[39m))\n\u001b[0;32m     <a href='file:///c%3A/Users/minum/Downloads/sem2/ML%20in%20CV/assignment-1%20v2/2022-SP-101-102-HW1_v2-amnm7/mlcvlab/optim/sgd.py?line=22'>23</a>\u001b[0m W_i[layer_i][row][col]\u001b[39m=\u001b[39mmodel\u001b[39m.\u001b[39mW[layer_i][row][col]\n\u001b[1;32m---> <a href='file:///c%3A/Users/minum/Downloads/sem2/ML%20in%20CV/assignment-1%20v2/2022-SP-101-102-HW1_v2-amnm7/mlcvlab/optim/sgd.py?line=25'>26</a>\u001b[0m l_grad\u001b[39m=\u001b[39mmodel\u001b[39m.\u001b[39;49memp_loss_grad(train_X,train_y,W_i,\u001b[39mNone\u001b[39;49;00m)\n\u001b[0;32m     <a href='file:///c%3A/Users/minum/Downloads/sem2/ML%20in%20CV/assignment-1%20v2/2022-SP-101-102-HW1_v2-amnm7/mlcvlab/optim/sgd.py?line=26'>27</a>\u001b[0m \u001b[39m# print(l_grad[0].shape)\u001b[39;00m\n\u001b[0;32m     <a href='file:///c%3A/Users/minum/Downloads/sem2/ML%20in%20CV/assignment-1%20v2/2022-SP-101-102-HW1_v2-amnm7/mlcvlab/optim/sgd.py?line=27'>28</a>\u001b[0m \u001b[39m# print(l_grad[0])\u001b[39;00m\n\u001b[0;32m     <a href='file:///c%3A/Users/minum/Downloads/sem2/ML%20in%20CV/assignment-1%20v2/2022-SP-101-102-HW1_v2-amnm7/mlcvlab/optim/sgd.py?line=28'>29</a>\u001b[0m model\u001b[39m.\u001b[39mW\u001b[39m=\u001b[39m[(i\u001b[39m-\u001b[39mlr\u001b[39m*\u001b[39mj) \u001b[39mfor\u001b[39;00m i,j \u001b[39min\u001b[39;00m \u001b[39mzip\u001b[39m(model\u001b[39m.\u001b[39mW,l_grad)]\n",
      "File \u001b[1;32mc:\\Users\\minum\\Downloads\\sem2\\ML in CV\\assignment-1 v2\\2022-SP-101-102-HW1_v2-amnm7\\mlcvlab\\models\\nn2.py:61\u001b[0m, in \u001b[0;36mNN2.emp_loss_grad\u001b[1;34m(self, train_X, train_y, W, layer)\u001b[0m\n\u001b[0;32m     <a href='file:///c%3A/Users/minum/Downloads/sem2/ML%20in%20CV/assignment-1%20v2/2022-SP-101-102-HW1_v2-amnm7/mlcvlab/models/nn2.py?line=57'>58</a>\u001b[0m \u001b[39mdef\u001b[39;00m \u001b[39memp_loss_grad\u001b[39m(\u001b[39mself\u001b[39m, train_X, train_y, W, layer):\n\u001b[0;32m     <a href='file:///c%3A/Users/minum/Downloads/sem2/ML%20in%20CV/assignment-1%20v2/2022-SP-101-102-HW1_v2-amnm7/mlcvlab/models/nn2.py?line=58'>59</a>\u001b[0m     \u001b[39m# TODO\u001b[39;00m\n\u001b[0;32m     <a href='file:///c%3A/Users/minum/Downloads/sem2/ML%20in%20CV/assignment-1%20v2/2022-SP-101-102-HW1_v2-amnm7/mlcvlab/models/nn2.py?line=59'>60</a>\u001b[0m     \u001b[39m# d_L=0\u001b[39;00m\n\u001b[1;32m---> <a href='file:///c%3A/Users/minum/Downloads/sem2/ML%20in%20CV/assignment-1%20v2/2022-SP-101-102-HW1_v2-amnm7/mlcvlab/models/nn2.py?line=60'>61</a>\u001b[0m     \u001b[39mreturn\u001b[39;00m \u001b[39mself\u001b[39;49m\u001b[39m.\u001b[39;49mgrad(train_X,train_y, W)\n",
      "File \u001b[1;32mc:\\Users\\minum\\Downloads\\sem2\\ML in CV\\assignment-1 v2\\2022-SP-101-102-HW1_v2-amnm7\\mlcvlab\\models\\nn2.py:36\u001b[0m, in \u001b[0;36mNN2.grad\u001b[1;34m(self, x, y, W)\u001b[0m\n\u001b[0;32m     <a href='file:///c%3A/Users/minum/Downloads/sem2/ML%20in%20CV/assignment-1%20v2/2022-SP-101-102-HW1_v2-amnm7/mlcvlab/models/nn2.py?line=33'>34</a>\u001b[0m z1\u001b[39m=\u001b[39mlinear(x\u001b[39m.\u001b[39mT,W1)\n\u001b[0;32m     <a href='file:///c%3A/Users/minum/Downloads/sem2/ML%20in%20CV/assignment-1%20v2/2022-SP-101-102-HW1_v2-amnm7/mlcvlab/models/nn2.py?line=34'>35</a>\u001b[0m z1_bar\u001b[39m=\u001b[39mrelu(z1)\n\u001b[1;32m---> <a href='file:///c%3A/Users/minum/Downloads/sem2/ML%20in%20CV/assignment-1%20v2/2022-SP-101-102-HW1_v2-amnm7/mlcvlab/models/nn2.py?line=35'>36</a>\u001b[0m z2\u001b[39m=\u001b[39mlinear(z1_bar\u001b[39m.\u001b[39;49mT,W2)\n\u001b[0;32m     <a href='file:///c%3A/Users/minum/Downloads/sem2/ML%20in%20CV/assignment-1%20v2/2022-SP-101-102-HW1_v2-amnm7/mlcvlab/models/nn2.py?line=36'>37</a>\u001b[0m y_hat\u001b[39m=\u001b[39msigmoid(z2)  \n\u001b[0;32m     <a href='file:///c%3A/Users/minum/Downloads/sem2/ML%20in%20CV/assignment-1%20v2/2022-SP-101-102-HW1_v2-amnm7/mlcvlab/models/nn2.py?line=38'>39</a>\u001b[0m l2_loss_grad\u001b[39m=\u001b[39ml2_grad(y,y_hat)\n",
      "File \u001b[1;32mc:\\Users\\minum\\Downloads\\sem2\\ML in CV\\assignment-1 v2\\2022-SP-101-102-HW1_v2-amnm7\\mlcvlab\\nn\\basis.py:6\u001b[0m, in \u001b[0;36mlinear\u001b[1;34m(x, W)\u001b[0m\n\u001b[0;32m      <a href='file:///c%3A/Users/minum/Downloads/sem2/ML%20in%20CV/assignment-1%20v2/2022-SP-101-102-HW1_v2-amnm7/mlcvlab/nn/basis.py?line=3'>4</a>\u001b[0m \u001b[39mdef\u001b[39;00m \u001b[39mlinear\u001b[39m(x, W):\n\u001b[0;32m      <a href='file:///c%3A/Users/minum/Downloads/sem2/ML%20in%20CV/assignment-1%20v2/2022-SP-101-102-HW1_v2-amnm7/mlcvlab/nn/basis.py?line=4'>5</a>\u001b[0m     \u001b[39m# TODO\u001b[39;00m\n\u001b[1;32m----> <a href='file:///c%3A/Users/minum/Downloads/sem2/ML%20in%20CV/assignment-1%20v2/2022-SP-101-102-HW1_v2-amnm7/mlcvlab/nn/basis.py?line=5'>6</a>\u001b[0m     \u001b[39mreturn\u001b[39;00m np\u001b[39m.\u001b[39;49mdot(W,x)\n",
      "File \u001b[1;32m<__array_function__ internals>:180\u001b[0m, in \u001b[0;36mdot\u001b[1;34m(*args, **kwargs)\u001b[0m\n",
      "\u001b[1;31mValueError\u001b[0m: shapes (1,500) and (60000,500) not aligned: 500 (dim 1) != 60000 (dim 0)"
     ]
    }
   ],
   "source": [
    "#initialize model\n",
    "model = initialize_model(X_train, X_test, y_train, y_test)\n",
    "\n",
    "#training model\n",
    "final_W = train_model(model, X_train, y_train)\n",
    "print(f\"Completed training model - final W : {final_W}\")\n",
    "\n",
    "\n",
    "#testing model\n",
    "accuracy = test_model(model, X_test, y_test, final_W)\n",
    "print(f\"Completed testing model - Accuracy : {accuracy}\")    "
   ]
  }
 ],
 "metadata": {
  "kernelspec": {
   "display_name": "Python 3",
   "language": "python",
   "name": "python3"
  },
  "language_info": {
   "codemirror_mode": {
    "name": "ipython",
    "version": 3
   },
   "file_extension": ".py",
   "mimetype": "text/x-python",
   "name": "python",
   "nbconvert_exporter": "python",
   "pygments_lexer": "ipython3",
   "version": "3.10.1"
  }
 },
 "nbformat": 4,
 "nbformat_minor": 5
}
